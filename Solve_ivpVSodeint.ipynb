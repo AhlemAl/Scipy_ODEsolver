{
 "cells": [
  {
   "cell_type": "code",
   "execution_count": 1,
   "id": "e14eb361",
   "metadata": {},
   "outputs": [
    {
     "name": "stdout",
     "output_type": "stream",
     "text": [
      "[0.000e+00 1.000e-04 1.100e-03 1.110e-02 1.111e-01 2.111e-01 3.111e-01\n",
      " 4.111e-01 5.111e-01 6.111e-01 7.111e-01 8.111e-01 9.111e-01 1.000e+00]\n",
      "[ 0.00000000e+00 -1.99990000e-04 -2.19879044e-03 -2.20772446e-02\n",
      " -2.10301480e-01 -3.80613812e-01 -5.34718782e-01 -6.74158726e-01\n",
      " -8.00329204e-01 -9.14492974e-01 -1.01779263e+00 -1.11126201e+00\n",
      " -1.19583662e+00 -1.26424112e+00]\n"
     ]
    }
   ],
   "source": [
    "from scipy.integrate import solve_ivp\n",
    "import numpy as np\n",
    "\n",
    "# DGL definieren\n",
    "def equation(t, y):\n",
    "    a = 1\n",
    "    b = 2\n",
    "    return -a*y-b\n",
    "\n",
    "\n",
    "t0 = 0  #Sekunden\n",
    "tf = 1  #Sekunden\n",
    "y0 = 0  #Anfangsbedingung\n",
    "\n",
    "# Lösung DGL\n",
    "solution = solve_ivp(equation, [t0, tf], [y0], max_step=0.1)\n",
    "\n",
    "print(solution.t)   # Anzeige von Zeitpunkten\n",
    "print(solution.y[0])  # Anzeige der Ergebnisse "
   ]
  },
  {
   "cell_type": "code",
   "execution_count": 2,
   "id": "8473f2f5",
   "metadata": {},
   "outputs": [
    {
     "name": "stdout",
     "output_type": "stream",
     "text": [
      "[0.  0.1 0.2 0.3 0.4 0.5 0.6 0.7 0.8 0.9 1. ]\n",
      "[ 0.         -0.19032515 -0.36253849 -0.51836355 -0.65935989 -0.78693866\n",
      " -0.9023767  -1.00682937 -1.10134207 -1.18686068 -1.26424112]\n"
     ]
    }
   ],
   "source": [
    "from scipy.integrate import odeint\n",
    "import numpy as np\n",
    "\n",
    "# DGL definieren\n",
    "def equation(y, t):  # Achtung y und t umgekehrt sind \n",
    "    a = 1\n",
    "    b = 2\n",
    "    return -a*y-b\n",
    "\n",
    "t0 = 0   #Sekunden\n",
    "tf = 1  #Sekunden\n",
    "y0 = 0  #Anfangsbedingung \n",
    "t = np.linspace(t0, tf, 11)  #Erstellung von Berechnungszeiten\n",
    "\n",
    "# Lösung DGL\n",
    "y = odeint(equation, y0, t)\n",
    "\n",
    "print(t)  # Anzeige von Zeitpunkten\n",
    "print(y[:, 0])  # Anzeige der Ergebnisse "
   ]
  },
  {
   "cell_type": "code",
   "execution_count": 9,
   "id": "50691d1f",
   "metadata": {},
   "outputs": [
    {
     "data": {
      "image/png": "[encoded data removed]",
      "text/plain": [
       "<Figure size 432x288 with 1 Axes>"
      ]
     },
     "metadata": {
      "needs_background": "light"
     },
     "output_type": "display_data"
    }
   ],
   "source": [
    "import matplotlib.pyplot as plt\n",
    "\n",
    "# Plot der Ergebnisse\n",
    "plt.scatter(solution.t, solution.y[0], label=\"solve_ivp\", color=\"red\")\n",
    "plt.plot(t, y[:, 0], label=\"odeint\")\n",
    "plt.ylabel('Amplitude')\n",
    "plt.xlabel(\"Zeit (s)\")\n",
    "plt.title(\"Vergleich der Ergebnisse\")\n",
    "plt.legend()\n",
    "plt.show()"
   ]
  },
  {
   "cell_type": "code",
   "execution_count": null,
   "id": "63618f50",
   "metadata": {},
   "outputs": [],
   "source": []
  }
 ],
 "metadata": {
  "kernelspec": {
   "display_name": "Python 3",
   "language": "python",
   "name": "python3"
  },
  "language_info": {
   "codemirror_mode": {
    "name": "ipython",
    "version": 3
   },
   "file_extension": ".py",
   "mimetype": "text/x-python",
   "name": "python",
   "nbconvert_exporter": "python",
   "pygments_lexer": "ipython3",
   "version": "3.8.5"
  }
 },
 "nbformat": 4,
 "nbformat_minor": 5
}
